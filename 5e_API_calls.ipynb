{
 "cells": [
  {
   "cell_type": "code",
   "execution_count": 1,
   "metadata": {},
   "outputs": [],
   "source": [
    "import pandas as pd\n",
    "import numpy as np\n",
    "import requests\n",
    "from collections import Counter"
   ]
  },
  {
   "cell_type": "code",
   "execution_count": 2,
   "metadata": {},
   "outputs": [],
   "source": [
    "core = 'http://dnd5eapi.co/api/'\n",
    "pages = ['Ability-Scores', 'Classes', 'Conditions', 'Damage-Types',\n",
    "         'Equipment-Categories', 'Equipment', 'Features', 'Languages',\n",
    "         'Levels', 'Magic-Schools','Monsters', 'Proficiencies', 'Races',\n",
    "         'Skills', 'Spellcasting', 'Spells', 'StartingEquipment',\n",
    "         'Subclasses', 'Subraces', 'Test', 'Traits', 'Weapon-Properties']\n",
    "\n",
    "def REQUEST(url):\n",
    "    try:\n",
    "        m = requests.get(url, timeout=1)\n",
    "        m1 = m.json()\n",
    "        return m1\n",
    "    except:\n",
    "        return None        "
   ]
  },
  {
   "cell_type": "code",
   "execution_count": 3,
   "metadata": {},
   "outputs": [],
   "source": [
    "active = []\n",
    "for page in pages:\n",
    "    url = ''.join((core,page))\n",
    "    try:\n",
    "        m = requests.get(url, timeout=1)\n",
    "        m1 = m.json()\n",
    "        active.append(page)\n",
    "    except:\n",
    "        pass"
   ]
  },
  {
   "cell_type": "code",
   "execution_count": 4,
   "metadata": {},
   "outputs": [
    {
     "name": "stdout",
     "output_type": "stream",
     "text": [
      "['Ability-Scores', 'Classes', 'Conditions', 'Damage-Types', 'Equipment-Categories', 'Equipment', 'Features', 'Languages', 'Magic-Schools', 'Monsters', 'Proficiencies', 'Races', 'Skills', 'Spellcasting', 'Spells', 'StartingEquipment', 'Subclasses', 'Subraces', 'Traits', 'Weapon-Properties']\n"
     ]
    }
   ],
   "source": [
    "print(active)"
   ]
  },
  {
   "cell_type": "markdown",
   "metadata": {},
   "source": [
    "# Monster Table"
   ]
  },
  {
   "cell_type": "code",
   "execution_count": 5,
   "metadata": {},
   "outputs": [
    {
     "data": {
      "text/html": [
       "<div>\n",
       "<style scoped>\n",
       "    .dataframe tbody tr th:only-of-type {\n",
       "        vertical-align: middle;\n",
       "    }\n",
       "\n",
       "    .dataframe tbody tr th {\n",
       "        vertical-align: top;\n",
       "    }\n",
       "\n",
       "    .dataframe thead th {\n",
       "        text-align: right;\n",
       "    }\n",
       "</style>\n",
       "<table border=\"1\" class=\"dataframe\">\n",
       "  <thead>\n",
       "    <tr style=\"text-align: right;\">\n",
       "      <th></th>\n",
       "      <th>name</th>\n",
       "      <th>url</th>\n",
       "    </tr>\n",
       "  </thead>\n",
       "  <tbody>\n",
       "    <tr>\n",
       "      <th>0</th>\n",
       "      <td>Aboleth</td>\n",
       "      <td>http://www.dnd5eapi.co/api/monsters/1</td>\n",
       "    </tr>\n",
       "    <tr>\n",
       "      <th>1</th>\n",
       "      <td>Acolyte</td>\n",
       "      <td>http://www.dnd5eapi.co/api/monsters/2</td>\n",
       "    </tr>\n",
       "    <tr>\n",
       "      <th>2</th>\n",
       "      <td>Adult Black Dragon</td>\n",
       "      <td>http://www.dnd5eapi.co/api/monsters/3</td>\n",
       "    </tr>\n",
       "    <tr>\n",
       "      <th>3</th>\n",
       "      <td>Adult Blue Dracolich</td>\n",
       "      <td>http://www.dnd5eapi.co/api/monsters/4</td>\n",
       "    </tr>\n",
       "    <tr>\n",
       "      <th>4</th>\n",
       "      <td>Adult Blue Dragon</td>\n",
       "      <td>http://www.dnd5eapi.co/api/monsters/5</td>\n",
       "    </tr>\n",
       "  </tbody>\n",
       "</table>\n",
       "</div>"
      ],
      "text/plain": [
       "                   name                                    url\n",
       "0               Aboleth  http://www.dnd5eapi.co/api/monsters/1\n",
       "1               Acolyte  http://www.dnd5eapi.co/api/monsters/2\n",
       "2    Adult Black Dragon  http://www.dnd5eapi.co/api/monsters/3\n",
       "3  Adult Blue Dracolich  http://www.dnd5eapi.co/api/monsters/4\n",
       "4     Adult Blue Dragon  http://www.dnd5eapi.co/api/monsters/5"
      ]
     },
     "execution_count": 5,
     "metadata": {},
     "output_type": "execute_result"
    }
   ],
   "source": [
    "r = requests.get(''.join((core,'Monsters')))\n",
    "x = r.json()\n",
    "monsters = x['results']\n",
    "monster_df = pd.DataFrame(monsters)\n",
    "monster_df.head()"
   ]
  },
  {
   "cell_type": "code",
   "execution_count": 6,
   "metadata": {},
   "outputs": [],
   "source": [
    "def extractCR(url):\n",
    "    try:\n",
    "        m = requests.get(url, timeout=1)\n",
    "        m1 = m.json()\n",
    "        return m1['challenge_rating']\n",
    "    except:\n",
    "        return(None)\n",
    "\n",
    "monster_df['CR']= monster_df['url'].apply(extractCR)\n"
   ]
  },
  {
   "cell_type": "code",
   "execution_count": 15,
   "metadata": {},
   "outputs": [],
   "source": [
    "#monster_df.set_index('ID',inplace=True)"
   ]
  },
  {
   "cell_type": "code",
   "execution_count": 8,
   "metadata": {},
   "outputs": [
    {
     "data": {
      "text/html": [
       "<div>\n",
       "<style scoped>\n",
       "    .dataframe tbody tr th:only-of-type {\n",
       "        vertical-align: middle;\n",
       "    }\n",
       "\n",
       "    .dataframe tbody tr th {\n",
       "        vertical-align: top;\n",
       "    }\n",
       "\n",
       "    .dataframe thead th {\n",
       "        text-align: right;\n",
       "    }\n",
       "</style>\n",
       "<table border=\"1\" class=\"dataframe\">\n",
       "  <thead>\n",
       "    <tr style=\"text-align: right;\">\n",
       "      <th></th>\n",
       "      <th>name</th>\n",
       "      <th>url</th>\n",
       "      <th>CR</th>\n",
       "    </tr>\n",
       "  </thead>\n",
       "  <tbody>\n",
       "    <tr>\n",
       "      <th>320</th>\n",
       "      <td>Young Green Dragon</td>\n",
       "      <td>http://www.dnd5eapi.co/api/monsters/321</td>\n",
       "      <td>8.00</td>\n",
       "    </tr>\n",
       "    <tr>\n",
       "      <th>321</th>\n",
       "      <td>Young Red Dragon</td>\n",
       "      <td>http://www.dnd5eapi.co/api/monsters/322</td>\n",
       "      <td>10.00</td>\n",
       "    </tr>\n",
       "    <tr>\n",
       "      <th>322</th>\n",
       "      <td>Young Silver Dragon</td>\n",
       "      <td>http://www.dnd5eapi.co/api/monsters/323</td>\n",
       "      <td>9.00</td>\n",
       "    </tr>\n",
       "    <tr>\n",
       "      <th>323</th>\n",
       "      <td>Young White Dragon</td>\n",
       "      <td>http://www.dnd5eapi.co/api/monsters/324</td>\n",
       "      <td>6.00</td>\n",
       "    </tr>\n",
       "    <tr>\n",
       "      <th>324</th>\n",
       "      <td>Zombie</td>\n",
       "      <td>http://www.dnd5eapi.co/api/monsters/325</td>\n",
       "      <td>0.25</td>\n",
       "    </tr>\n",
       "  </tbody>\n",
       "</table>\n",
       "</div>"
      ],
      "text/plain": [
       "                    name                                      url     CR\n",
       "320   Young Green Dragon  http://www.dnd5eapi.co/api/monsters/321   8.00\n",
       "321     Young Red Dragon  http://www.dnd5eapi.co/api/monsters/322  10.00\n",
       "322  Young Silver Dragon  http://www.dnd5eapi.co/api/monsters/323   9.00\n",
       "323   Young White Dragon  http://www.dnd5eapi.co/api/monsters/324   6.00\n",
       "324               Zombie  http://www.dnd5eapi.co/api/monsters/325   0.25"
      ]
     },
     "execution_count": 8,
     "metadata": {},
     "output_type": "execute_result"
    }
   ],
   "source": [
    "monster_df.tail()"
   ]
  },
  {
   "cell_type": "code",
   "execution_count": 10,
   "metadata": {},
   "outputs": [],
   "source": [
    "def extractKeys(url):\n",
    "    try:\n",
    "        m = requests.get(url, timeout=1)\n",
    "        m1 = m.json()\n",
    "        return [m1.keys()]\n",
    "    except:\n",
    "        return(None)\n",
    "    \n",
    "stats = monster_df['url'].apply(extractKeys)"
   ]
  },
  {
   "cell_type": "code",
   "execution_count": 11,
   "metadata": {},
   "outputs": [],
   "source": [
    "statlist = stats.tolist()"
   ]
  },
  {
   "cell_type": "code",
   "execution_count": 12,
   "metadata": {},
   "outputs": [
    {
     "data": {
      "text/html": [
       "<div>\n",
       "<style scoped>\n",
       "    .dataframe tbody tr th:only-of-type {\n",
       "        vertical-align: middle;\n",
       "    }\n",
       "\n",
       "    .dataframe tbody tr th {\n",
       "        vertical-align: top;\n",
       "    }\n",
       "\n",
       "    .dataframe thead th {\n",
       "        text-align: right;\n",
       "    }\n",
       "</style>\n",
       "<table border=\"1\" class=\"dataframe\">\n",
       "  <thead>\n",
       "    <tr style=\"text-align: right;\">\n",
       "      <th></th>\n",
       "      <th>_id</th>\n",
       "      <th>acrobatics</th>\n",
       "      <th>actions</th>\n",
       "      <th>alignment</th>\n",
       "      <th>arcana</th>\n",
       "      <th>armor_class</th>\n",
       "      <th>athletics</th>\n",
       "      <th>challenge_rating</th>\n",
       "      <th>charisma</th>\n",
       "      <th>charisma_save</th>\n",
       "      <th>...</th>\n",
       "      <th>speed</th>\n",
       "      <th>stealth</th>\n",
       "      <th>strength</th>\n",
       "      <th>strength_save</th>\n",
       "      <th>subtype</th>\n",
       "      <th>survival</th>\n",
       "      <th>type</th>\n",
       "      <th>url</th>\n",
       "      <th>wisdom</th>\n",
       "      <th>wisdom_save</th>\n",
       "    </tr>\n",
       "  </thead>\n",
       "  <tbody>\n",
       "    <tr>\n",
       "      <th>0</th>\n",
       "      <td>1</td>\n",
       "      <td>NaN</td>\n",
       "      <td>1.0</td>\n",
       "      <td>1</td>\n",
       "      <td>NaN</td>\n",
       "      <td>1</td>\n",
       "      <td>NaN</td>\n",
       "      <td>1</td>\n",
       "      <td>NaN</td>\n",
       "      <td>NaN</td>\n",
       "      <td>...</td>\n",
       "      <td>1</td>\n",
       "      <td>NaN</td>\n",
       "      <td>1</td>\n",
       "      <td>NaN</td>\n",
       "      <td>1</td>\n",
       "      <td>NaN</td>\n",
       "      <td>1</td>\n",
       "      <td>1</td>\n",
       "      <td>1</td>\n",
       "      <td>1.0</td>\n",
       "    </tr>\n",
       "    <tr>\n",
       "      <th>1</th>\n",
       "      <td>1</td>\n",
       "      <td>NaN</td>\n",
       "      <td>1.0</td>\n",
       "      <td>1</td>\n",
       "      <td>NaN</td>\n",
       "      <td>1</td>\n",
       "      <td>NaN</td>\n",
       "      <td>1</td>\n",
       "      <td>1.0</td>\n",
       "      <td>NaN</td>\n",
       "      <td>...</td>\n",
       "      <td>1</td>\n",
       "      <td>NaN</td>\n",
       "      <td>1</td>\n",
       "      <td>NaN</td>\n",
       "      <td>1</td>\n",
       "      <td>NaN</td>\n",
       "      <td>1</td>\n",
       "      <td>1</td>\n",
       "      <td>1</td>\n",
       "      <td>NaN</td>\n",
       "    </tr>\n",
       "    <tr>\n",
       "      <th>2</th>\n",
       "      <td>1</td>\n",
       "      <td>NaN</td>\n",
       "      <td>1.0</td>\n",
       "      <td>1</td>\n",
       "      <td>NaN</td>\n",
       "      <td>1</td>\n",
       "      <td>NaN</td>\n",
       "      <td>1</td>\n",
       "      <td>1.0</td>\n",
       "      <td>1.0</td>\n",
       "      <td>...</td>\n",
       "      <td>1</td>\n",
       "      <td>1.0</td>\n",
       "      <td>1</td>\n",
       "      <td>NaN</td>\n",
       "      <td>1</td>\n",
       "      <td>NaN</td>\n",
       "      <td>1</td>\n",
       "      <td>1</td>\n",
       "      <td>1</td>\n",
       "      <td>1.0</td>\n",
       "    </tr>\n",
       "    <tr>\n",
       "      <th>3</th>\n",
       "      <td>1</td>\n",
       "      <td>NaN</td>\n",
       "      <td>1.0</td>\n",
       "      <td>1</td>\n",
       "      <td>NaN</td>\n",
       "      <td>1</td>\n",
       "      <td>NaN</td>\n",
       "      <td>1</td>\n",
       "      <td>1.0</td>\n",
       "      <td>NaN</td>\n",
       "      <td>...</td>\n",
       "      <td>1</td>\n",
       "      <td>NaN</td>\n",
       "      <td>1</td>\n",
       "      <td>NaN</td>\n",
       "      <td>1</td>\n",
       "      <td>NaN</td>\n",
       "      <td>1</td>\n",
       "      <td>1</td>\n",
       "      <td>1</td>\n",
       "      <td>NaN</td>\n",
       "    </tr>\n",
       "    <tr>\n",
       "      <th>4</th>\n",
       "      <td>1</td>\n",
       "      <td>NaN</td>\n",
       "      <td>1.0</td>\n",
       "      <td>1</td>\n",
       "      <td>NaN</td>\n",
       "      <td>1</td>\n",
       "      <td>NaN</td>\n",
       "      <td>1</td>\n",
       "      <td>1.0</td>\n",
       "      <td>1.0</td>\n",
       "      <td>...</td>\n",
       "      <td>1</td>\n",
       "      <td>1.0</td>\n",
       "      <td>1</td>\n",
       "      <td>NaN</td>\n",
       "      <td>1</td>\n",
       "      <td>NaN</td>\n",
       "      <td>1</td>\n",
       "      <td>1</td>\n",
       "      <td>1</td>\n",
       "      <td>1.0</td>\n",
       "    </tr>\n",
       "  </tbody>\n",
       "</table>\n",
       "<p>5 rows × 51 columns</p>\n",
       "</div>"
      ],
      "text/plain": [
       "   _id  acrobatics  actions  alignment  arcana  armor_class  athletics  \\\n",
       "0    1         NaN      1.0          1     NaN            1        NaN   \n",
       "1    1         NaN      1.0          1     NaN            1        NaN   \n",
       "2    1         NaN      1.0          1     NaN            1        NaN   \n",
       "3    1         NaN      1.0          1     NaN            1        NaN   \n",
       "4    1         NaN      1.0          1     NaN            1        NaN   \n",
       "\n",
       "   challenge_rating  charisma  charisma_save     ...       speed  stealth  \\\n",
       "0                 1       NaN            NaN     ...           1      NaN   \n",
       "1                 1       1.0            NaN     ...           1      NaN   \n",
       "2                 1       1.0            1.0     ...           1      1.0   \n",
       "3                 1       1.0            NaN     ...           1      NaN   \n",
       "4                 1       1.0            1.0     ...           1      1.0   \n",
       "\n",
       "   strength  strength_save  subtype  survival  type  url  wisdom  wisdom_save  \n",
       "0         1            NaN        1       NaN     1    1       1          1.0  \n",
       "1         1            NaN        1       NaN     1    1       1          NaN  \n",
       "2         1            NaN        1       NaN     1    1       1          1.0  \n",
       "3         1            NaN        1       NaN     1    1       1          NaN  \n",
       "4         1            NaN        1       NaN     1    1       1          1.0  \n",
       "\n",
       "[5 rows x 51 columns]"
      ]
     },
     "execution_count": 12,
     "metadata": {},
     "output_type": "execute_result"
    }
   ],
   "source": [
    "\n",
    "present = []\n",
    "for entry in statlist:\n",
    "    present.append(Counter(list(entry[0])))\n",
    "\n",
    "stat_cnt = pd.DataFrame(present)\n",
    "stat_cnt.head()"
   ]
  },
  {
   "cell_type": "code",
   "execution_count": 13,
   "metadata": {},
   "outputs": [],
   "source": [
    "allstats = stat_cnt.isnull().sum().sort_values()"
   ]
  },
  {
   "cell_type": "code",
   "execution_count": 47,
   "metadata": {},
   "outputs": [
    {
     "name": "stdout",
     "output_type": "stream",
     "text": [
      "Centaur\n",
      "Elk\n"
     ]
    }
   ],
   "source": [
    "def SummonMonster(url):\n",
    "    try:\n",
    "        m = requests.get(url, timeout=1)\n",
    "        m1 = m.json()\n",
    "        return m1\n",
    "    except:\n",
    "        return(None)\n",
    "    \n",
    "class Monster:\n",
    "    def __init__(self,url):\n",
    "        self.stats = SummonMonster(url)\n",
    "        for key in self.stats:\n",
    "            if key not in allstats:\n",
    "                self.stats[key] = 0\n",
    "        self.condition = []\n",
    "        \n",
    "m1 = str(np.random.randint(1,200))\n",
    "Mon1 = Monster(''.join(('http://www.dnd5eapi.co/api/monsters/',m1)))\n",
    "print(Mon1.stats['name'])\n",
    "\n",
    "m2 = str(np.random.randint(1,200))\n",
    "Mon2 = Monster(''.join(('http://www.dnd5eapi.co/api/monsters/',m2)))\n",
    "print(Mon2.stats['name'])\n"
   ]
  },
  {
   "cell_type": "code",
   "execution_count": 48,
   "metadata": {},
   "outputs": [],
   "source": [
    "def Attack(action, opp):\n",
    "    name, hit, dmg, bon = action\n",
    "    dice = dmg.split(' + ')\n",
    "    damage = 0\n",
    "    for i in dice:\n",
    "        n, d = map(int,i.split('d'))\n",
    "        damage += sum(np.random.randint(1,d,n)) + bon\n",
    "    roll = hit + np.random.randint(1,20)\n",
    "    \n",
    "    if roll >= opp.stats['armor_class']:\n",
    "        d = opp.stats['hit_points']\n",
    "        opp.stats['hit_points'] = d-damage  \n",
    "        return(name,damage)\n",
    "    else:\n",
    "        return('miss',0)\n",
    "\n",
    "def ChooseAction(char):\n",
    "    valid = False\n",
    "    options = char.stats['actions']\n",
    "    while not valid:\n",
    "        choice = options[np.random.randint(0,len(options)-1)]\n",
    "        if choice['attack_bonus'] != 0: valid = True\n",
    "    \n",
    "    return [choice['name'],choice.get('attack_bonus',0),\n",
    "            choice.get('damage_dice','0d0'),choice.get('damage_bonus',0)]\n",
    "\n",
    "def Describe(p1,p2,result):\n",
    "    name1 = p1.stats['name']\n",
    "    name2 = p2.stats['name']\n",
    "    \n",
    "    print('{0:s} attacks {1:s} with a {2:s} for {3:d} damage'\\\n",
    "              .format(name1,name2,result[0],result[1]))\n",
    "    print('{0:s} now at {1:d}HP'.format(name2,int(p2.stats['hit_points'])))\n"
   ]
  },
  {
   "cell_type": "markdown",
   "metadata": {},
   "source": [
    "### Simple 1 v 1 comabt testing\n",
    "Randomly selects a combat action from the monster's list of actions and executes. Basic functions above will be expanded out to include conditions in this order\n",
    "- Crit hit and miss\n",
    "- Conditions \n",
    "     - Advantage and Disadvantage\n",
    "     - General conditions \n",
    "- Spells\n",
    "     \n"
   ]
  },
  {
   "cell_type": "code",
   "execution_count": 49,
   "metadata": {},
   "outputs": [
    {
     "name": "stdout",
     "output_type": "stream",
     "text": [
      "45\n",
      "13\n",
      "Centaur attacks Elk with a Hooves for 14 damage\n",
      "Elk now at -1HP\n"
     ]
    },
    {
     "ename": "KeyboardInterrupt",
     "evalue": "",
     "output_type": "error",
     "traceback": [
      "\u001b[0;31m---------------------------------------------------------------------------\u001b[0m",
      "\u001b[0;31mKeyboardInterrupt\u001b[0m                         Traceback (most recent call last)",
      "\u001b[0;32m<ipython-input-49-3e8731b1fce0>\u001b[0m in \u001b[0;36m<module>\u001b[0;34m()\u001b[0m\n\u001b[1;32m      6\u001b[0m     \u001b[0mresult\u001b[0m \u001b[0;34m=\u001b[0m \u001b[0mAttack\u001b[0m\u001b[0;34m(\u001b[0m\u001b[0maction\u001b[0m\u001b[0;34m,\u001b[0m \u001b[0mMon2\u001b[0m\u001b[0;34m)\u001b[0m\u001b[0;34m\u001b[0m\u001b[0m\n\u001b[1;32m      7\u001b[0m     \u001b[0mDescribe\u001b[0m\u001b[0;34m(\u001b[0m\u001b[0mMon1\u001b[0m\u001b[0;34m,\u001b[0m\u001b[0mMon2\u001b[0m\u001b[0;34m,\u001b[0m\u001b[0mresult\u001b[0m\u001b[0;34m)\u001b[0m\u001b[0;34m\u001b[0m\u001b[0m\n\u001b[0;32m----> 8\u001b[0;31m     \u001b[0maction\u001b[0m \u001b[0;34m=\u001b[0m \u001b[0mChooseAction\u001b[0m\u001b[0;34m(\u001b[0m\u001b[0mMon2\u001b[0m\u001b[0;34m)\u001b[0m\u001b[0;34m\u001b[0m\u001b[0m\n\u001b[0m\u001b[1;32m      9\u001b[0m     \u001b[0mresult\u001b[0m \u001b[0;34m=\u001b[0m \u001b[0mAttack\u001b[0m\u001b[0;34m(\u001b[0m\u001b[0maction\u001b[0m\u001b[0;34m,\u001b[0m \u001b[0mMon1\u001b[0m\u001b[0;34m)\u001b[0m\u001b[0;34m\u001b[0m\u001b[0m\n\u001b[1;32m     10\u001b[0m     \u001b[0mDescribe\u001b[0m\u001b[0;34m(\u001b[0m\u001b[0mMon2\u001b[0m\u001b[0;34m,\u001b[0m\u001b[0mMon1\u001b[0m\u001b[0;34m,\u001b[0m\u001b[0mresult\u001b[0m\u001b[0;34m)\u001b[0m\u001b[0;34m\u001b[0m\u001b[0m\n",
      "\u001b[0;32m<ipython-input-48-e1086cc05610>\u001b[0m in \u001b[0;36mChooseAction\u001b[0;34m(char)\u001b[0m\n\u001b[1;32m     19\u001b[0m     \u001b[0moptions\u001b[0m \u001b[0;34m=\u001b[0m \u001b[0mchar\u001b[0m\u001b[0;34m.\u001b[0m\u001b[0mstats\u001b[0m\u001b[0;34m[\u001b[0m\u001b[0;34m'actions'\u001b[0m\u001b[0;34m]\u001b[0m\u001b[0;34m\u001b[0m\u001b[0m\n\u001b[1;32m     20\u001b[0m     \u001b[0;32mwhile\u001b[0m \u001b[0;32mnot\u001b[0m \u001b[0mvalid\u001b[0m\u001b[0;34m:\u001b[0m\u001b[0;34m\u001b[0m\u001b[0m\n\u001b[0;32m---> 21\u001b[0;31m         \u001b[0mchoice\u001b[0m \u001b[0;34m=\u001b[0m \u001b[0moptions\u001b[0m\u001b[0;34m[\u001b[0m\u001b[0mnp\u001b[0m\u001b[0;34m.\u001b[0m\u001b[0mrandom\u001b[0m\u001b[0;34m.\u001b[0m\u001b[0mrandint\u001b[0m\u001b[0;34m(\u001b[0m\u001b[0;36m0\u001b[0m\u001b[0;34m,\u001b[0m\u001b[0mlen\u001b[0m\u001b[0;34m(\u001b[0m\u001b[0moptions\u001b[0m\u001b[0;34m)\u001b[0m\u001b[0;34m-\u001b[0m\u001b[0;36m1\u001b[0m\u001b[0;34m)\u001b[0m\u001b[0;34m]\u001b[0m\u001b[0;34m\u001b[0m\u001b[0m\n\u001b[0m\u001b[1;32m     22\u001b[0m         \u001b[0;32mif\u001b[0m \u001b[0mchoice\u001b[0m\u001b[0;34m[\u001b[0m\u001b[0;34m'attack_bonus'\u001b[0m\u001b[0;34m]\u001b[0m \u001b[0;34m!=\u001b[0m \u001b[0;36m0\u001b[0m\u001b[0;34m:\u001b[0m \u001b[0mvalid\u001b[0m \u001b[0;34m=\u001b[0m \u001b[0;32mTrue\u001b[0m\u001b[0;34m\u001b[0m\u001b[0m\n\u001b[1;32m     23\u001b[0m \u001b[0;34m\u001b[0m\u001b[0m\n",
      "\u001b[0;31mKeyboardInterrupt\u001b[0m: "
     ]
    }
   ],
   "source": [
    "while Mon1.stats['hit_points'] >0 and Mon2.stats['hit_points'] >0:\n",
    "    action = ChooseAction(Mon1)\n",
    "    result = Attack(action, Mon2)\n",
    "    Describe(Mon1,Mon2,result)\n",
    "    action = ChooseAction(Mon2)\n",
    "    result = Attack(action, Mon1)\n",
    "    Describe(Mon2,Mon1,result)\n",
    "    print()"
   ]
  },
  {
   "cell_type": "markdown",
   "metadata": {},
   "source": [
    "# PC/NPC generator from classes option"
   ]
  },
  {
   "cell_type": "code",
   "execution_count": 260,
   "metadata": {},
   "outputs": [
    {
     "name": "stdout",
     "output_type": "stream",
     "text": [
      "{1: -5, 3: -4, 5: -3, 7: -2, 9: -1, 11: 0, 13: 1, 15: 2, 17: 3, 19: 4, 21: 5, 23: 6, 25: 7, 27: 8, 29: 9, 31: 10}\n"
     ]
    }
   ],
   "source": [
    "stat_priority = {'Barbarian':['STR','CON'],\n",
    "                 'Bard': ['CHA','DEX'],\n",
    "                'Cleric':['WIS','CON','STR'],\n",
    "                'Druid':['wis','con'],\n",
    "                'Fighter':['str','dex','con'],\n",
    "                'Monk':['dex','wis'],\n",
    "                'Paladin':['str','cha'],\n",
    "                'Ranger':['dex','wis'],\n",
    "                'Rogue':['dex','cha'],\n",
    "                'Sorcerer':['cha','con'],\n",
    "                'Warlock':['cha','con'],\n",
    "                'Wizard':['int','dex','con']}\n",
    "\n",
    "mod = np.arange(-5,11,1)\n",
    "abss = np.arange(1,32,2)\n",
    "print(dict(zip(abss,mod)))\n"
   ]
  },
  {
   "cell_type": "code",
   "execution_count": 250,
   "metadata": {},
   "outputs": [],
   "source": [
    "def CleanDict(dic, exclude):\n",
    "    for ex in exclude:\n",
    "        dic.pop(ex, None)\n",
    "    return dic\n",
    "                \n",
    "class NPC():\n",
    "   \n",
    "    def __init__(self,Class, level):\n",
    "        self.stats = REQUEST(''.join((core,'classes/',class_dic[Class])))\n",
    "        exclude = ['_id','index','class_levels','url']\n",
    "        #removes useless keys\n",
    "        for ex in exclude:\n",
    "            self.stats.pop(ex, None)\n",
    "        \n",
    "        #simplifies weapon proficiency and saving throw dict\n",
    "        self.stats['proficiencies'] = [x['name'] for x in self.stats['proficiencies']]\n",
    "        self.stats['saving_throws']= [x['name'] for x in self.stats['saving_throws']]\n",
    "        \n",
    "        #selects random proficiencies\n",
    "        skill_num = self.stats['proficiency_choices'][0]['choose']\n",
    "        self.stats['proficiency_choices'] = self.stats['proficiency_choices'][0]['from']\n",
    "        self.stats['proficiency_choices'] = [x['name'].split(':')[-1].strip() for x in self.stats['proficiency_choices']]\n",
    "        skill_idx = np.random.randint(0,len(self.stats['proficiency_choices']),skill_num)\n",
    "        self.stats['Skills'] = [self.stats['proficiency_choices'][x] for x in skill_idx]  \n",
    "    \n",
    "        #Sets Starting Equipment\n",
    "        exclude = ['_id','url','index','class']\n",
    "        Set = CleanDict(REQUEST(self.stats['starting_equipment']['url']),exclude)                \n",
    "       \n",
    "        self.equip = {}\n",
    "        for i in Set['starting_equipment']:\n",
    "            item = i['item']\n",
    "            item = CleanDict(REQUEST(item['url']),exclude)\n",
    "            self.equip[item.pop('name')]= item\n",
    "\n",
    "        for c in range(1,Set['choices_to_make']+1):\n",
    "            #selects and flattens dictionary of choices\n",
    "            choice = Set['_'.join(('choice',str(c)))]\n",
    "            choice = [x['from'] for x in choice]\n",
    "            choice = [x for sublist in choice for x in sublist]\n",
    "            choice = [x['item'] for x in choice]\n",
    "            \n",
    "            #selects a random weapon\n",
    "            select = np.random.randint(0,len(choice))\n",
    "            item = choice[select]\n",
    "            self.equip[item['name']] = CleanDict(REQUEST(item['url']),exclude)\n",
    "        \n",
    "        self.stats.pop('starting_equipment',None)\n",
    "        \n",
    "        #rolls base stats from equipment\n",
    "        abilities = ['STR','DEX','CON','WIS','INT','CHA']\n",
    "        rolls = sorted([sum(np.random.randint(1,7,3)) for i in range(7)])\n",
    "        top = stat_priority[self.stats['name']]\n",
    "        for t in top:\n",
    "            self.stats[t]=rolls.pop()\n",
    "            abilities.remove(t)\n",
    "        \n",
    "        for a in abilities:\n",
    "            np.random.shuffle(rolls)\n",
    "            self.stats[a] = rolls.pop()\n",
    "            "
   ]
  },
  {
   "cell_type": "code",
   "execution_count": 252,
   "metadata": {},
   "outputs": [
    {
     "data": {
      "text/plain": [
       "{'CHA': 16,\n",
       " 'CON': 10,\n",
       " 'DEX': 13,\n",
       " 'INT': 9,\n",
       " 'STR': 9,\n",
       " 'Skills': ['Insight', 'Persuasion', 'Performance'],\n",
       " 'WIS': 10,\n",
       " 'hit_die': 8,\n",
       " 'name': 'Bard',\n",
       " 'proficiencies': ['Light armor',\n",
       "  'Simple weapons',\n",
       "  'Longswords',\n",
       "  'Rapiers',\n",
       "  'Shortswords',\n",
       "  'Crossbows, hand'],\n",
       " 'proficiency_choices': ['Acrobatics',\n",
       "  'Animal Handling',\n",
       "  'Arcana',\n",
       "  'Athletics',\n",
       "  'Deception',\n",
       "  'History',\n",
       "  'Insight',\n",
       "  'Intimidation',\n",
       "  'Investigation',\n",
       "  'Medicine',\n",
       "  'Nature',\n",
       "  'Perception',\n",
       "  'Performance',\n",
       "  'Persuasion',\n",
       "  'Religion',\n",
       "  'Sleight of Hand',\n",
       "  'Stealth',\n",
       "  'Survival'],\n",
       " 'saving_throws': ['DEX', 'CHA'],\n",
       " 'spellcasting': {'class': 'Bard',\n",
       "  'url': 'http://www.dnd5eapi.co/api/spellcasting/1'},\n",
       " 'subclasses': [{'name': 'Lore',\n",
       "   'url': 'http://www.dnd5eapi.co/api/subclasses/2'}]}"
      ]
     },
     "execution_count": 252,
     "metadata": {},
     "output_type": "execute_result"
    }
   ],
   "source": [
    "John = NPC('Bard',0)\n",
    "John.stats"
   ]
  },
  {
   "cell_type": "code",
   "execution_count": 119,
   "metadata": {},
   "outputs": [
    {
     "data": {
      "text/plain": [
       "{'_id': '5a52bca1559f00418e53357f',\n",
       " 'armor_category': 'Light',\n",
       " 'armor_class': {'base': 11, 'dex_bonus': True, 'max_bonus': None},\n",
       " 'cost': {'quantity': 10, 'unit': 'gp'},\n",
       " 'equipment_category': 'Armor',\n",
       " 'index': 39,\n",
       " 'name': 'Leather',\n",
       " 'stealth_disadvantage': False,\n",
       " 'str_minimum': 0,\n",
       " 'url': 'http://www.dnd5eapi.co/api/equipment/39',\n",
       " 'weight': 10}"
      ]
     },
     "execution_count": 119,
     "metadata": {},
     "output_type": "execute_result"
    }
   ],
   "source": [
    "REQUEST('http://www.dnd5eapi.co/api/equipment/39')"
   ]
  },
  {
   "cell_type": "code",
   "execution_count": 202,
   "metadata": {},
   "outputs": [
    {
     "data": {
      "text/plain": [
       "{'count': 6,\n",
       " 'results': [{'name': 'STR',\n",
       "   'url': 'http://www.dnd5eapi.co/api/ability-scores/1'},\n",
       "  {'name': 'DEX', 'url': 'http://www.dnd5eapi.co/api/ability-scores/2'},\n",
       "  {'name': 'CON', 'url': 'http://www.dnd5eapi.co/api/ability-scores/3'},\n",
       "  {'name': 'INT', 'url': 'http://www.dnd5eapi.co/api/ability-scores/4'},\n",
       "  {'name': 'WIS', 'url': 'http://www.dnd5eapi.co/api/ability-scores/5'},\n",
       "  {'name': 'CHA', 'url': 'http://www.dnd5eapi.co/api/ability-scores/6'}]}"
      ]
     },
     "execution_count": 202,
     "metadata": {},
     "output_type": "execute_result"
    }
   ],
   "source": [
    "REQUEST('http://www.dnd5eapi.co/api/Ability-Scores/')"
   ]
  }
 ],
 "metadata": {
  "kernelspec": {
   "display_name": "Python 3",
   "language": "python",
   "name": "python3"
  },
  "language_info": {
   "codemirror_mode": {
    "name": "ipython",
    "version": 3
   },
   "file_extension": ".py",
   "mimetype": "text/x-python",
   "name": "python",
   "nbconvert_exporter": "python",
   "pygments_lexer": "ipython3",
   "version": "3.6.4"
  }
 },
 "nbformat": 4,
 "nbformat_minor": 2
}
